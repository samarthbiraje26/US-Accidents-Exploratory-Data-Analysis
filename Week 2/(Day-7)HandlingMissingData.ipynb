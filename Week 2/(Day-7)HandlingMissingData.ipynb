{
  "nbformat": 4,
  "nbformat_minor": 0,
  "metadata": {
    "colab": {
      "provenance": [],
      "gpuType": "V28",
      "authorship_tag": "ABX9TyNstkjmfcIWEjb6sQBY+LuH",
      "include_colab_link": true
    },
    "kernelspec": {
      "name": "python3",
      "display_name": "Python 3"
    },
    "language_info": {
      "name": "python"
    },
    "accelerator": "TPU"
  },
  "cells": [
    {
      "cell_type": "markdown",
      "metadata": {
        "id": "view-in-github",
        "colab_type": "text"
      },
      "source": [
        "<a href=\"https://colab.research.google.com/github/samarthbiraje26/US-Accidents-Exploratory-Data-Analysis/blob/main/Week%202/HandlingMissingData.ipynb\" target=\"_parent\"><img src=\"https://colab.research.google.com/assets/colab-badge.svg\" alt=\"Open In Colab\"/></a>"
      ]
    },
    {
      "cell_type": "markdown",
      "source": [
        "# Handling Missing Values\n",
        "Missing values in a dataset are entries for which no data was recorded. They can arise due to various reasons (sensor failure, skipped fields, data corruption, etc.).\n",
        "\n",
        "Why handle them?\n",
        "\n",
        "Many ML algorithms can't process missing values directly.\n",
        "\n",
        "They can bias or distort analysis if not treated properly.\n",
        "\n",
        "Clean data ensures more reliable, interpretable insights."
      ],
      "metadata": {
        "id": "UuArIXbJUZ7i"
      }
    },
    {
      "cell_type": "code",
      "source": [
        "import pandas as pd\n",
        "import numpy as np\n",
        "\n",
        "# Example DataFrame\n",
        "data = {\n",
        "    'A': [1, np.nan, 3, 4, 5],\n",
        "    'B': [np.nan, np.nan, np.nan, 4, 5],\n",
        "    'C': [1, 2, 3, np.nan, 5]\n",
        "}\n",
        "df = pd.DataFrame(data)\n",
        "print(\"Original DataFrame:\\n\", df)\n",
        "\n",
        "# Drop rows with ANY missing values\n",
        "df_drop_rows = df.dropna(axis=0)\n",
        "print(\"\\nAfter dropping rows with any missing values:\\n\", df_drop_rows)\n",
        "\n",
        "# Drop columns with ANY missing values\n",
        "df_drop_cols = df.dropna(axis=1)\n",
        "print(\"\\nAfter dropping columns with any missing values:\\n\", df_drop_cols)\n",
        "\n",
        "# Drop columns with more than a threshold (e.g., 50%) missing values\n",
        "threshold = 0.5 * len(df)\n",
        "df_drop_threshold = df.dropna(axis=1, thresh=threshold)\n",
        "print(\"\\nAfter dropping columns with >50% missing values:\\n\", df_drop_threshold)"
      ],
      "metadata": {
        "colab": {
          "base_uri": "https://localhost:8080/"
        },
        "id": "wipSupiWUzfJ",
        "outputId": "88182d56-667c-4835-ad4f-1719a0ce8027"
      },
      "execution_count": 1,
      "outputs": [
        {
          "output_type": "stream",
          "name": "stdout",
          "text": [
            "Original DataFrame:\n",
            "      A    B    C\n",
            "0  1.0  NaN  1.0\n",
            "1  NaN  NaN  2.0\n",
            "2  3.0  NaN  3.0\n",
            "3  4.0  4.0  NaN\n",
            "4  5.0  5.0  5.0\n",
            "\n",
            "After dropping rows with any missing values:\n",
            "      A    B    C\n",
            "4  5.0  5.0  5.0\n",
            "\n",
            "After dropping columns with any missing values:\n",
            " Empty DataFrame\n",
            "Columns: []\n",
            "Index: [0, 1, 2, 3, 4]\n",
            "\n",
            "After dropping columns with >50% missing values:\n",
            "      A    C\n",
            "0  1.0  1.0\n",
            "1  NaN  2.0\n",
            "2  3.0  3.0\n",
            "3  4.0  NaN\n",
            "4  5.0  5.0\n"
          ]
        }
      ]
    },
    {
      "cell_type": "markdown",
      "source": [
        "# Imputing Missing Values\n",
        "Imputation replaces missing values with substituted values based on various strategies.\n",
        "\n",
        "When to impute?\n",
        "\n",
        "When the column is important for analysis.\n",
        "\n",
        "When the missingness is not substantial, and values can be plausibly estimated.\n",
        "\n",
        "Possible Imputation Techniques & Code Examples:\n",
        "\n",
        "a) Fill with a Constant (e.g., 0, \"unknown\")"
      ],
      "metadata": {
        "id": "kndnG5xUVHbD"
      }
    },
    {
      "cell_type": "code",
      "source": [
        "df_constant = df.fillna(0)\n",
        "print(\"\\nFill missing values with 0:\\n\", df_constant)"
      ],
      "metadata": {
        "colab": {
          "base_uri": "https://localhost:8080/"
        },
        "id": "lizUgjaEVPet",
        "outputId": "a047e997-dbde-454f-898c-60cc209d21fd"
      },
      "execution_count": 2,
      "outputs": [
        {
          "output_type": "stream",
          "name": "stdout",
          "text": [
            "\n",
            "Fill missing values with 0:\n",
            "      A    B    C\n",
            "0  1.0  0.0  1.0\n",
            "1  0.0  0.0  2.0\n",
            "2  3.0  0.0  3.0\n",
            "3  4.0  4.0  0.0\n",
            "4  5.0  5.0  5.0\n"
          ]
        }
      ]
    },
    {
      "cell_type": "markdown",
      "source": [
        "b) Fill with Mean / Median / Mode"
      ],
      "metadata": {
        "id": "BwT8SyGoVWgm"
      }
    },
    {
      "cell_type": "code",
      "source": [
        "# Fill numerical columns with mean\n",
        "df_mean = df.fillna(df.mean(numeric_only=True))\n",
        "print(\"\\nFill numerical columns with mean:\\n\", df_mean)\n",
        "\n",
        "# Fill numerical columns with median\n",
        "df_median = df.fillna(df.median(numeric_only=True))\n",
        "print(\"\\nFill numerical columns with median:\\n\", df_median)\n",
        "\n",
        "# Fill categorical columns with mode\n",
        "df_mode = df.apply(lambda x: x.fillna(x.mode()[0]) if x.dtype=='O' else x)\n",
        "print(\"\\nFill categorical columns with mode:\\n\", df_mode)"
      ],
      "metadata": {
        "colab": {
          "base_uri": "https://localhost:8080/"
        },
        "id": "75TUqTo-VXji",
        "outputId": "ef1b00db-b3ae-4368-fe60-ab0628f11061"
      },
      "execution_count": 3,
      "outputs": [
        {
          "output_type": "stream",
          "name": "stdout",
          "text": [
            "\n",
            "Fill numerical columns with mean:\n",
            "       A    B     C\n",
            "0  1.00  4.5  1.00\n",
            "1  3.25  4.5  2.00\n",
            "2  3.00  4.5  3.00\n",
            "3  4.00  4.0  2.75\n",
            "4  5.00  5.0  5.00\n",
            "\n",
            "Fill numerical columns with median:\n",
            "      A    B    C\n",
            "0  1.0  4.5  1.0\n",
            "1  3.5  4.5  2.0\n",
            "2  3.0  4.5  3.0\n",
            "3  4.0  4.0  2.5\n",
            "4  5.0  5.0  5.0\n",
            "\n",
            "Fill categorical columns with mode:\n",
            "      A    B    C\n",
            "0  1.0  NaN  1.0\n",
            "1  NaN  NaN  2.0\n",
            "2  3.0  NaN  3.0\n",
            "3  4.0  4.0  NaN\n",
            "4  5.0  5.0  5.0\n"
          ]
        }
      ]
    },
    {
      "cell_type": "markdown",
      "source": [
        "c) Forward Fill / Backward Fill (for time series or panel data)"
      ],
      "metadata": {
        "id": "RNQr9swvVeOz"
      }
    },
    {
      "cell_type": "code",
      "source": [
        "df_ffill = df.fillna(method='ffill')\n",
        "print(\"\\nForward fill missing values:\\n\", df_ffill)\n",
        "\n",
        "df_bfill = df.fillna(method='bfill')\n",
        "print(\"\\nBackward fill missing values:\\n\", df_bfill)"
      ],
      "metadata": {
        "colab": {
          "base_uri": "https://localhost:8080/"
        },
        "id": "e6aiB35oVfB2",
        "outputId": "c8fb0fd0-0453-4e65-c2f8-8e1312119a65"
      },
      "execution_count": 4,
      "outputs": [
        {
          "output_type": "stream",
          "name": "stdout",
          "text": [
            "\n",
            "Forward fill missing values:\n",
            "      A    B    C\n",
            "0  1.0  NaN  1.0\n",
            "1  1.0  NaN  2.0\n",
            "2  3.0  NaN  3.0\n",
            "3  4.0  4.0  3.0\n",
            "4  5.0  5.0  5.0\n",
            "\n",
            "Backward fill missing values:\n",
            "      A    B    C\n",
            "0  1.0  4.0  1.0\n",
            "1  3.0  4.0  2.0\n",
            "2  3.0  4.0  3.0\n",
            "3  4.0  4.0  5.0\n",
            "4  5.0  5.0  5.0\n"
          ]
        },
        {
          "output_type": "stream",
          "name": "stderr",
          "text": [
            "/tmp/ipython-input-1106789087.py:1: FutureWarning: DataFrame.fillna with 'method' is deprecated and will raise in a future version. Use obj.ffill() or obj.bfill() instead.\n",
            "  df_ffill = df.fillna(method='ffill')\n",
            "/tmp/ipython-input-1106789087.py:4: FutureWarning: DataFrame.fillna with 'method' is deprecated and will raise in a future version. Use obj.ffill() or obj.bfill() instead.\n",
            "  df_bfill = df.fillna(method='bfill')\n"
          ]
        }
      ]
    },
    {
      "cell_type": "markdown",
      "source": [
        "d) Advanced: KNN Imputer / Iterative Imputer (for large projects)"
      ],
      "metadata": {
        "id": "wg2l02xWVkpM"
      }
    },
    {
      "cell_type": "code",
      "source": [
        "from sklearn.impute import KNNImputer\n",
        "\n",
        "knn_imputer = KNNImputer(n_neighbors=2)\n",
        "df_knn = pd.DataFrame(knn_imputer.fit_transform(df), columns=df.columns)\n",
        "print(\"\\nKNN Imputed DataFrame:\\n\", df_knn)"
      ],
      "metadata": {
        "colab": {
          "base_uri": "https://localhost:8080/"
        },
        "id": "YcOg62bcVldL",
        "outputId": "c2dbbd7f-f766-4d43-91e5-ae4bb0b974cd"
      },
      "execution_count": 5,
      "outputs": [
        {
          "output_type": "stream",
          "name": "stdout",
          "text": [
            "\n",
            "KNN Imputed DataFrame:\n",
            "      A    B    C\n",
            "0  1.0  4.5  1.0\n",
            "1  2.0  5.0  2.0\n",
            "2  3.0  4.5  3.0\n",
            "3  4.0  4.0  4.0\n",
            "4  5.0  5.0  5.0\n"
          ]
        }
      ]
    },
    {
      "cell_type": "markdown",
      "source": [
        "# 3. Choosing the Best Approach\n",
        "Guidelines:\n",
        "\n",
        "Drop columns if lots of information is missing (>30–50%), but consider domain importance.\n",
        "\n",
        "Impute when missingness is moderate, using domain knowledge to choose the technique.\n",
        "\n",
        "Use mean/median for numeric, mode for categorical, and advanced methods for critical variables."
      ],
      "metadata": {
        "id": "BGg7Esx_VtK_"
      }
    },
    {
      "cell_type": "code",
      "source": [
        "import pandas as pd\n",
        "import numpy as np\n",
        "from sklearn.impute import KNNImputer\n",
        "\n",
        "# Create a dummy dataset with missing values\n",
        "data = {\n",
        "    'Age': [25, np.nan, 30, 22, 40, np.nan, 28],\n",
        "    'Salary': [50000, 60000, np.nan, 52000, 58000, 62000, np.nan],\n",
        "    'City': ['New York', 'Los Angeles', 'New York', np.nan, 'Chicago', 'Chicago', 'Los Angeles'],\n",
        "    'Purchased': ['Yes', 'No', np.nan, 'No', 'Yes', 'Yes', 'No']\n",
        "}\n",
        "\n",
        "df_dummy = pd.DataFrame(data)\n",
        "print(\"Original Dummy Dataset with Missing Values:\")\n",
        "print(df_dummy)\n",
        "\n",
        "# Assignment Tasks (interns should attempt):\n",
        "# 1. Drop columns or rows with excessive missing values.\n",
        "# 2. Impute missing numerical columns (Age, Salary) with mean or median.\n",
        "# 3. Impute missing categorical columns (City, Purchased) with mode.\n",
        "# 4. Optionally, apply KNN imputation for numerical columns.\n",
        "\n",
        "# Example imputation with mean and mode:\n",
        "df_imputed = df_dummy.copy()\n",
        "df_imputed['Age'] = df_imputed['Age'].fillna(df_imputed['Age'].mean())\n",
        "df_imputed['Salary'] = df_imputed['Salary'].fillna(df_imputed['Salary'].median())\n",
        "df_imputed['City'] = df_imputed['City'].fillna(df_imputed['City'].mode()[0])\n",
        "df_imputed['Purchased'] = df_imputed['Purchased'].fillna(df_imputed['Purchased'].mode()[0])\n",
        "\n",
        "print(\"\\nDummy Dataset After Imputation:\")\n",
        "print(df_imputed)"
      ],
      "metadata": {
        "colab": {
          "base_uri": "https://localhost:8080/"
        },
        "id": "PaRroo__VxCX",
        "outputId": "a31e5928-1b8c-4b3a-b245-ab72249970bc"
      },
      "execution_count": 6,
      "outputs": [
        {
          "output_type": "stream",
          "name": "stdout",
          "text": [
            "Original Dummy Dataset with Missing Values:\n",
            "    Age   Salary         City Purchased\n",
            "0  25.0  50000.0     New York       Yes\n",
            "1   NaN  60000.0  Los Angeles        No\n",
            "2  30.0      NaN     New York       NaN\n",
            "3  22.0  52000.0          NaN        No\n",
            "4  40.0  58000.0      Chicago       Yes\n",
            "5   NaN  62000.0      Chicago       Yes\n",
            "6  28.0      NaN  Los Angeles        No\n",
            "\n",
            "Dummy Dataset After Imputation:\n",
            "    Age   Salary         City Purchased\n",
            "0  25.0  50000.0     New York       Yes\n",
            "1  29.0  60000.0  Los Angeles        No\n",
            "2  30.0  58000.0     New York        No\n",
            "3  22.0  52000.0      Chicago        No\n",
            "4  40.0  58000.0      Chicago       Yes\n",
            "5  29.0  62000.0      Chicago       Yes\n",
            "6  28.0  58000.0  Los Angeles        No\n"
          ]
        }
      ]
    }
  ]
}
