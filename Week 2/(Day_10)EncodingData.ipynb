{
  "nbformat": 4,
  "nbformat_minor": 0,
  "metadata": {
    "colab": {
      "provenance": [],
      "authorship_tag": "ABX9TyPKw8sHObOHNT2ypFja/FUS",
      "include_colab_link": true
    },
    "kernelspec": {
      "name": "python3",
      "display_name": "Python 3"
    },
    "language_info": {
      "name": "python"
    }
  },
  "cells": [
    {
      "cell_type": "markdown",
      "metadata": {
        "id": "view-in-github",
        "colab_type": "text"
      },
      "source": [
        "<a href=\"https://colab.research.google.com/github/samarthbiraje26/US-Accidents-Exploratory-Data-Analysis/blob/main/Week%202/(Day_10)EncodingData.ipynb\" target=\"_parent\"><img src=\"https://colab.research.google.com/assets/colab-badge.svg\" alt=\"Open In Colab\"/></a>"
      ]
    },
    {
      "cell_type": "markdown",
      "source": [
        "# Encode Categorical Features:\n",
        "Categorical encoding is converting categorical variables (textual or nominal data) into numerical format that machine learning algorithms can use. Common methods include:\n",
        "\n",
        "Label Encoding: Assigning each unique category an integer label. Suitable for ordinal categories or tree-based models.\n",
        "\n",
        "One-Hot Encoding: Creating binary columns for each category, indicating presence/absence. Good for nominal categorical variables with no intrinsic order."
      ],
      "metadata": {
        "id": "Tfo5Uf54LTp5"
      }
    },
    {
      "cell_type": "code",
      "source": [
        "import pandas as pd\n",
        "import numpy as np\n",
        "\n",
        "# Synthetic dataset with categorical and duplicate rows\n",
        "data = {\n",
        "    'City': ['New York', 'Los Angeles', 'New York', 'Chicago', 'Houston', 'Los Angeles', 'Boston', 'Boston', 'Chicago'],\n",
        "    'Weather': ['Sunny', 'Rainy', 'Sunny', 'Cloudy', 'Sunny', 'Rainy', 'Rainy', 'Sunny', 'Cloudy'],\n",
        "    'Severity': [3, 2, 3, 1, 4, 2, 3, 3, 1],\n",
        "    'Accidents': [100, 150, 100, 80, 90, 150, 60, 60, 80]\n",
        "}\n",
        "\n",
        "df = pd.DataFrame(data)\n",
        "print(\"Original Dataset:\")\n",
        "print(df)"
      ],
      "metadata": {
        "colab": {
          "base_uri": "https://localhost:8080/"
        },
        "id": "YIhVKzrTLdRT",
        "outputId": "4eaefa8b-6a64-4950-9d40-29b3a919ba4a"
      },
      "execution_count": 8,
      "outputs": [
        {
          "output_type": "stream",
          "name": "stdout",
          "text": [
            "Original Dataset:\n",
            "          City Weather  Severity  Accidents\n",
            "0     New York   Sunny         3        100\n",
            "1  Los Angeles   Rainy         2        150\n",
            "2     New York   Sunny         3        100\n",
            "3      Chicago  Cloudy         1         80\n",
            "4      Houston   Sunny         4         90\n",
            "5  Los Angeles   Rainy         2        150\n",
            "6       Boston   Rainy         3         60\n",
            "7       Boston   Sunny         3         60\n",
            "8      Chicago  Cloudy         1         80\n"
          ]
        }
      ]
    },
    {
      "cell_type": "markdown",
      "source": [
        "# Remove Duplicates:\n",
        "Duplicates are repeated rows in the dataset that may bias analysis or models. Removing duplicates ensures data integrity and accuracy. Pandas drop_duplicates() method identifies and removes duplicate rows based on all or selected columns."
      ],
      "metadata": {
        "id": "OBfAIlaXLkWi"
      }
    },
    {
      "cell_type": "code",
      "source": [
        "# Remove duplicate rows\n",
        "df_no_duplicates = df.drop_duplicates()\n",
        "print(\"\\nAfter removing duplicates:\")\n",
        "print(df_no_duplicates)"
      ],
      "metadata": {
        "colab": {
          "base_uri": "https://localhost:8080/"
        },
        "id": "y3uwn9TsLlzQ",
        "outputId": "de3e3c46-9f6c-4551-c1b4-353944239418"
      },
      "execution_count": 9,
      "outputs": [
        {
          "output_type": "stream",
          "name": "stdout",
          "text": [
            "\n",
            "After removing duplicates:\n",
            "          City Weather  Severity  Accidents\n",
            "0     New York   Sunny         3        100\n",
            "1  Los Angeles   Rainy         2        150\n",
            "3      Chicago  Cloudy         1         80\n",
            "4      Houston   Sunny         4         90\n",
            "6       Boston   Rainy         3         60\n",
            "7       Boston   Sunny         3         60\n"
          ]
        }
      ]
    },
    {
      "cell_type": "code",
      "source": [
        "# Label Encoding with pandas category dtype\n",
        "df_no_duplicates['City_Encoded'] = df_no_duplicates['City'].astype('category').cat.codes\n",
        "print(\"\\nLabel Encoded 'City' column:\")\n",
        "print(df_no_duplicates[['City', 'City_Encoded']])"
      ],
      "metadata": {
        "colab": {
          "base_uri": "https://localhost:8080/"
        },
        "id": "XQuWBAtNLrIm",
        "outputId": "806c30f0-8f10-4aa7-fc4c-dfdbc8077280"
      },
      "execution_count": 10,
      "outputs": [
        {
          "output_type": "stream",
          "name": "stdout",
          "text": [
            "\n",
            "Label Encoded 'City' column:\n",
            "          City  City_Encoded\n",
            "0     New York             4\n",
            "1  Los Angeles             3\n",
            "3      Chicago             1\n",
            "4      Houston             2\n",
            "6       Boston             0\n",
            "7       Boston             0\n"
          ]
        },
        {
          "output_type": "stream",
          "name": "stderr",
          "text": [
            "/tmp/ipython-input-397821232.py:2: SettingWithCopyWarning: \n",
            "A value is trying to be set on a copy of a slice from a DataFrame.\n",
            "Try using .loc[row_indexer,col_indexer] = value instead\n",
            "\n",
            "See the caveats in the documentation: https://pandas.pydata.org/pandas-docs/stable/user_guide/indexing.html#returning-a-view-versus-a-copy\n",
            "  df_no_duplicates['City_Encoded'] = df_no_duplicates['City'].astype('category').cat.codes\n"
          ]
        }
      ]
    },
    {
      "cell_type": "code",
      "source": [
        "# One-Hot Encoding using pandas get_dummies\n",
        "df_onehot = pd.get_dummies(df_no_duplicates, columns=['Weather'])\n",
        "print(\"\\nOne-Hot Encoded 'Weather' column:\")\n",
        "print(df_onehot.head())"
      ],
      "metadata": {
        "colab": {
          "base_uri": "https://localhost:8080/"
        },
        "id": "zNbmWgWJLumb",
        "outputId": "154868aa-29ed-44f7-ee6b-16cf937573c8"
      },
      "execution_count": 11,
      "outputs": [
        {
          "output_type": "stream",
          "name": "stdout",
          "text": [
            "\n",
            "One-Hot Encoded 'Weather' column:\n",
            "          City  Severity  Accidents  City_Encoded  Weather_Cloudy  \\\n",
            "0     New York         3        100             4           False   \n",
            "1  Los Angeles         2        150             3           False   \n",
            "3      Chicago         1         80             1            True   \n",
            "4      Houston         4         90             2           False   \n",
            "6       Boston         3         60             0           False   \n",
            "\n",
            "   Weather_Rainy  Weather_Sunny  \n",
            "0          False           True  \n",
            "1           True          False  \n",
            "3          False          False  \n",
            "4          False           True  \n",
            "6           True          False  \n"
          ]
        }
      ]
    },
    {
      "cell_type": "markdown",
      "source": [
        "# Outliers Handling:\n",
        "Outliers are data points that deviate significantly from the majority distribution. They may be errors or rare events.\n",
        "\n",
        "Handling can be by:\n",
        "\n",
        "Removal if they are errors or noise.\n",
        "\n",
        "Capping or transformation to reduce skew.\n",
        "\n",
        "Leaving as is if meaningful for analysis."
      ],
      "metadata": {
        "id": "BPo6psl5LzFB"
      }
    },
    {
      "cell_type": "code",
      "source": [
        "# Detecting and handling outliers in 'Accidents' column using IQR method:\n",
        "\n",
        "Q1 = df_no_duplicates['Accidents'].quantile(0.25)\n",
        "Q3 = df_no_duplicates['Accidents'].quantile(0.75)\n",
        "IQR = Q3 - Q1\n",
        "\n",
        "# Define bounds\n",
        "lower_bound = Q1 - 1.5 * IQR\n",
        "upper_bound = Q3 + 1.5 * IQR\n",
        "\n",
        "# Identify outliers\n",
        "outliers = df_no_duplicates[(df_no_duplicates['Accidents'] < lower_bound) | (df_no_duplicates['Accidents'] > upper_bound)]\n",
        "print(\"\\nDetected outliers:\")\n",
        "print(outliers)\n",
        "\n",
        "# Option 1: Remove outliers\n",
        "df_no_outliers = df_no_duplicates[(df_no_duplicates['Accidents'] >= lower_bound) & (df_no_duplicates['Accidents'] <= upper_bound)]\n",
        "print(\"\\nDataset after removing outliers:\")\n",
        "print(df_no_outliers)\n",
        "\n",
        "# Option 2: Cap outliers (winsorizing)\n",
        "df_capped = df_no_duplicates.copy()\n",
        "df_capped['Accidents'] = np.where(df_capped['Accidents'] > upper_bound, upper_bound,\n",
        "                                  np.where(df_capped['Accidents'] < lower_bound, lower_bound, df_capped['Accidents']))\n",
        "print(\"\\nDataset after capping outliers:\")\n",
        "print(df_capped)"
      ],
      "metadata": {
        "colab": {
          "base_uri": "https://localhost:8080/"
        },
        "id": "Bv3uzdbkL63N",
        "outputId": "6baecfe9-7b62-4dac-ea7f-70ceeeec6a9c"
      },
      "execution_count": 12,
      "outputs": [
        {
          "output_type": "stream",
          "name": "stdout",
          "text": [
            "\n",
            "Detected outliers:\n",
            "          City Weather  Severity  Accidents  City_Encoded\n",
            "1  Los Angeles   Rainy         2        150             3\n",
            "\n",
            "Dataset after removing outliers:\n",
            "       City Weather  Severity  Accidents  City_Encoded\n",
            "0  New York   Sunny         3        100             4\n",
            "3   Chicago  Cloudy         1         80             1\n",
            "4   Houston   Sunny         4         90             2\n",
            "6    Boston   Rainy         3         60             0\n",
            "7    Boston   Sunny         3         60             0\n",
            "\n",
            "Dataset after capping outliers:\n",
            "          City Weather  Severity  Accidents  City_Encoded\n",
            "0     New York   Sunny         3     100.00             4\n",
            "1  Los Angeles   Rainy         2     146.25             3\n",
            "3      Chicago  Cloudy         1      80.00             1\n",
            "4      Houston   Sunny         4      90.00             2\n",
            "6       Boston   Rainy         3      60.00             0\n",
            "7       Boston   Sunny         3      60.00             0\n"
          ]
        }
      ]
    },
    {
      "cell_type": "markdown",
      "source": [
        "# Visualize this outlier using boxplot."
      ],
      "metadata": {
        "id": "dpIE0bqUMBxe"
      }
    },
    {
      "cell_type": "code",
      "source": [
        "import matplotlib.pyplot as plt\n",
        "\n",
        "# Group values by category\n",
        "cities = df['City'].unique()\n",
        "data = [df[df['City'] == c]['Accidents'] for c in cities]\n",
        "\n",
        "plt.boxplot(data, labels=cities)\n",
        "plt.title(\"Boxplot of Accidents by City\")\n",
        "plt.xlabel(\"City\")\n",
        "plt.ylabel(\"Accidents\")\n",
        "plt.show()"
      ],
      "metadata": {
        "id": "sPpQC_wDMDYz",
        "colab": {
          "base_uri": "https://localhost:8080/",
          "height": 527
        },
        "outputId": "42f50dbc-8c47-478b-d6a6-0c49b6ba5072"
      },
      "execution_count": 13,
      "outputs": [
        {
          "output_type": "stream",
          "name": "stderr",
          "text": [
            "/tmp/ipython-input-1237095712.py:7: MatplotlibDeprecationWarning: The 'labels' parameter of boxplot() has been renamed 'tick_labels' since Matplotlib 3.9; support for the old name will be dropped in 3.11.\n",
            "  plt.boxplot(data, labels=cities)\n"
          ]
        },
        {
          "output_type": "display_data",
          "data": {
            "text/plain": [
              "<Figure size 640x480 with 1 Axes>"
            ],
            "image/png": "[encoded data removed]"
          },
          "metadata": {}
        }
      ]
    }
  ]
}
