{
 "cells": [
  {
   "cell_type": "code",
   "execution_count": 1,
   "id": "687d79e1",
   "metadata": {},
   "outputs": [],
   "source": [
    "import pandas as pd\n",
    "import numpy as np\n",
    "\n",
    "# Load the sampled dataset\n",
    "df = pd.read_csv(\"US_Accidents_March23_sampled_1M.csv\")"
   ]
  },
  {
   "cell_type": "code",
   "execution_count": 2,
   "id": "56588d7f",
   "metadata": {},
   "outputs": [],
   "source": [
    "# 1. Parse datetimes\n",
    "df[\"Start_Time\"] = pd.to_datetime(df[\"Start_Time\"], errors=\"coerce\")\n",
    "df[\"End_Time\"]   = pd.to_datetime(df[\"End_Time\"], errors=\"coerce\")"
   ]
  },
  {
   "cell_type": "code",
   "execution_count": 3,
   "id": "b77a2bf0",
   "metadata": {},
   "outputs": [],
   "source": [
    "# 2. Drop duplicates and rows with invalid times\n",
    "df = df.drop_duplicates(subset=\"ID\")\n",
    "df = df.dropna(subset=[\"Start_Time\", \"End_Time\"])"
   ]
  },
  {
   "cell_type": "code",
   "execution_count": 4,
   "id": "fe64b8cf",
   "metadata": {},
   "outputs": [],
   "source": [
    "# 3. Drop rows missing critical location data\n",
    "df = df.dropna(subset=[\"Start_Lat\", \"Start_Lng\"])"
   ]
  },
  {
   "cell_type": "code",
   "execution_count": 5,
   "id": "8291942a",
   "metadata": {},
   "outputs": [],
   "source": [
    "# 4. Compute incident duration in minutes\n",
    "df[\"Duration_Minutes\"] = (df[\"End_Time\"] - df[\"Start_Time\"]).dt.total_seconds() / 60"
   ]
  },
  {
   "cell_type": "code",
   "execution_count": 6,
   "id": "c6fa1634",
   "metadata": {},
   "outputs": [],
   "source": [
    "# 5. Extract temporal features\n",
    "df[\"Hour\"]        = df[\"Start_Time\"].dt.hour\n",
    "df[\"DayOfWeek\"]   = df[\"Start_Time\"].dt.weekday\n",
    "df[\"Month\"]       = df[\"Start_Time\"].dt.month\n",
    "df[\"IsWeekend\"]   = df[\"DayOfWeek\"].isin([5,6]).astype(int)"
   ]
  },
  {
   "cell_type": "code",
   "execution_count": 7,
   "id": "2365ce40",
   "metadata": {},
   "outputs": [],
   "source": [
    "# 6. Encode boolean traffic feature flags as integers\n",
    "bool_cols = [\n",
    "    \"Roundabout\",\n",
    "    \"Station\",\n",
    "    \"Stop\",\n",
    "    \"Traffic_Calming\",\n",
    "    \"Traffic_Signal\",\n",
    "    \"Turning_Loop\"\n",
    "]\n",
    "for col in bool_cols:\n",
    "    df[col] = df[col].astype(int)"
   ]
  },
  {
   "cell_type": "code",
   "execution_count": 8,
   "id": "b4e98370",
   "metadata": {},
   "outputs": [],
   "source": [
    "# 7. Encode light condition as binary day/night\n",
    "df[\"IsDay\"] = (df[\"Sunrise_Sunset\"] == \"Day\").astype(int)"
   ]
  },
  {
   "cell_type": "code",
   "execution_count": 9,
   "id": "2a8be4c5",
   "metadata": {},
   "outputs": [],
   "source": [
    "# 8. Drop columns not used for modeling\n",
    "drop_cols = [\n",
    "    \"ID\",\n",
    "    \"Source\",\n",
    "    \"Description\",\n",
    "    \"Street\",\n",
    "    \"Start_Time\",\n",
    "    \"End_Time\",\n",
    "    \"Sunrise_Sunset\",\n",
    "    \"Civil_Twilight\",\n",
    "    \"Nautical_Twilight\",\n",
    "    \"Astronomical_Twilight\"\n",
    "]\n",
    "df = df.drop(columns=drop_cols)"
   ]
  },
  {
   "cell_type": "code",
   "execution_count": 10,
   "id": "a9184b73",
   "metadata": {},
   "outputs": [],
   "source": [
    "# 9. Handle missing values in numeric columns\n",
    "#    Fill numeric NaNs with median\n",
    "num_cols = df.select_dtypes(include=\"number\").columns.tolist()\n",
    "for col in num_cols:\n",
    "    df[col] = df[col].fillna(df[col].median())"
   ]
  },
  {
   "cell_type": "code",
   "execution_count": 11,
   "id": "ca74c635",
   "metadata": {},
   "outputs": [],
   "source": [
    "# 10. Final clean-up: remove any remaining rows with NaNs\n",
    "df = df.dropna()"
   ]
  },
  {
   "cell_type": "code",
   "execution_count": 12,
   "id": "ca23c5d2",
   "metadata": {},
   "outputs": [
    {
     "data": {
      "text/plain": [
       "Severity\n",
       "2    764946\n",
       "3    162587\n",
       "4     24830\n",
       "1      8502\n",
       "Name: count, dtype: int64"
      ]
     },
     "execution_count": 12,
     "metadata": {},
     "output_type": "execute_result"
    }
   ],
   "source": [
    "df['Severity'].value_counts()"
   ]
  },
  {
   "cell_type": "code",
   "execution_count": 13,
   "id": "b9897e89",
   "metadata": {},
   "outputs": [],
   "source": [
    "# 11. stratify/drop rare severity classes if needed\n",
    "# e.g., keep only severity levels 1-4\n",
    "df = df[df[\"Severity\"].isin([1,2,3,4])]\n",
    "\n",
    "# Save cleaned dataset\n",
    "df.to_csv(\"accidents_cleaned.csv\", index=False)"
   ]
  },
  {
   "cell_type": "code",
   "execution_count": 14,
   "id": "66b69539",
   "metadata": {},
   "outputs": [
    {
     "name": "stdout",
     "output_type": "stream",
     "text": [
      "Cleaned dataset shape: (960865, 40)\n"
     ]
    },
    {
     "data": {
      "text/html": [
       "<div>\n",
       "<style scoped>\n",
       "    .dataframe tbody tr th:only-of-type {\n",
       "        vertical-align: middle;\n",
       "    }\n",
       "\n",
       "    .dataframe tbody tr th {\n",
       "        vertical-align: top;\n",
       "    }\n",
       "\n",
       "    .dataframe thead th {\n",
       "        text-align: right;\n",
       "    }\n",
       "</style>\n",
       "<table border=\"1\" class=\"dataframe\">\n",
       "  <thead>\n",
       "    <tr style=\"text-align: right;\">\n",
       "      <th></th>\n",
       "      <th>Severity</th>\n",
       "      <th>Start_Lat</th>\n",
       "      <th>Start_Lng</th>\n",
       "      <th>Distance(mi)</th>\n",
       "      <th>City</th>\n",
       "      <th>County</th>\n",
       "      <th>State</th>\n",
       "      <th>Zipcode</th>\n",
       "      <th>Country</th>\n",
       "      <th>Timezone</th>\n",
       "      <th>...</th>\n",
       "      <th>Stop</th>\n",
       "      <th>Traffic_Calming</th>\n",
       "      <th>Traffic_Signal</th>\n",
       "      <th>Turning_Loop</th>\n",
       "      <th>Duration_Minutes</th>\n",
       "      <th>Hour</th>\n",
       "      <th>DayOfWeek</th>\n",
       "      <th>Month</th>\n",
       "      <th>IsWeekend</th>\n",
       "      <th>IsDay</th>\n",
       "    </tr>\n",
       "  </thead>\n",
       "  <tbody>\n",
       "    <tr>\n",
       "      <th>0</th>\n",
       "      <td>1</td>\n",
       "      <td>26.706900</td>\n",
       "      <td>-80.119360</td>\n",
       "      <td>0.000</td>\n",
       "      <td>West Palm Beach</td>\n",
       "      <td>Palm Beach</td>\n",
       "      <td>FL</td>\n",
       "      <td>33417-4638</td>\n",
       "      <td>US</td>\n",
       "      <td>US/Eastern</td>\n",
       "      <td>...</td>\n",
       "      <td>0</td>\n",
       "      <td>0</td>\n",
       "      <td>1</td>\n",
       "      <td>0</td>\n",
       "      <td>60.000000</td>\n",
       "      <td>9</td>\n",
       "      <td>4</td>\n",
       "      <td>4</td>\n",
       "      <td>0</td>\n",
       "      <td>1</td>\n",
       "    </tr>\n",
       "    <tr>\n",
       "      <th>1</th>\n",
       "      <td>2</td>\n",
       "      <td>38.781024</td>\n",
       "      <td>-121.265820</td>\n",
       "      <td>0.045</td>\n",
       "      <td>Roseville</td>\n",
       "      <td>Placer</td>\n",
       "      <td>CA</td>\n",
       "      <td>95678-1907</td>\n",
       "      <td>US</td>\n",
       "      <td>US/Pacific</td>\n",
       "      <td>...</td>\n",
       "      <td>1</td>\n",
       "      <td>0</td>\n",
       "      <td>0</td>\n",
       "      <td>0</td>\n",
       "      <td>103.133333</td>\n",
       "      <td>10</td>\n",
       "      <td>3</td>\n",
       "      <td>4</td>\n",
       "      <td>0</td>\n",
       "      <td>1</td>\n",
       "    </tr>\n",
       "    <tr>\n",
       "      <th>2</th>\n",
       "      <td>3</td>\n",
       "      <td>33.985249</td>\n",
       "      <td>-84.269348</td>\n",
       "      <td>0.000</td>\n",
       "      <td>Alpharetta</td>\n",
       "      <td>Fulton</td>\n",
       "      <td>GA</td>\n",
       "      <td>30022</td>\n",
       "      <td>US</td>\n",
       "      <td>US/Eastern</td>\n",
       "      <td>...</td>\n",
       "      <td>0</td>\n",
       "      <td>0</td>\n",
       "      <td>0</td>\n",
       "      <td>0</td>\n",
       "      <td>30.000000</td>\n",
       "      <td>16</td>\n",
       "      <td>4</td>\n",
       "      <td>8</td>\n",
       "      <td>0</td>\n",
       "      <td>1</td>\n",
       "    </tr>\n",
       "    <tr>\n",
       "      <th>3</th>\n",
       "      <td>3</td>\n",
       "      <td>47.118706</td>\n",
       "      <td>-122.556908</td>\n",
       "      <td>0.000</td>\n",
       "      <td>Tacoma</td>\n",
       "      <td>Pierce</td>\n",
       "      <td>WA</td>\n",
       "      <td>98433</td>\n",
       "      <td>US</td>\n",
       "      <td>US/Pacific</td>\n",
       "      <td>...</td>\n",
       "      <td>0</td>\n",
       "      <td>0</td>\n",
       "      <td>0</td>\n",
       "      <td>0</td>\n",
       "      <td>33.733333</td>\n",
       "      <td>15</td>\n",
       "      <td>4</td>\n",
       "      <td>9</td>\n",
       "      <td>0</td>\n",
       "      <td>1</td>\n",
       "    </tr>\n",
       "    <tr>\n",
       "      <th>4</th>\n",
       "      <td>2</td>\n",
       "      <td>33.451355</td>\n",
       "      <td>-111.890343</td>\n",
       "      <td>0.000</td>\n",
       "      <td>Scottsdale</td>\n",
       "      <td>Maricopa</td>\n",
       "      <td>AZ</td>\n",
       "      <td>85256</td>\n",
       "      <td>US</td>\n",
       "      <td>US/Mountain</td>\n",
       "      <td>...</td>\n",
       "      <td>0</td>\n",
       "      <td>0</td>\n",
       "      <td>0</td>\n",
       "      <td>0</td>\n",
       "      <td>76.433333</td>\n",
       "      <td>16</td>\n",
       "      <td>0</td>\n",
       "      <td>6</td>\n",
       "      <td>0</td>\n",
       "      <td>1</td>\n",
       "    </tr>\n",
       "  </tbody>\n",
       "</table>\n",
       "<p>5 rows × 40 columns</p>\n",
       "</div>"
      ],
      "text/plain": [
       "   Severity  Start_Lat   Start_Lng  Distance(mi)             City      County  \\\n",
       "0         1  26.706900  -80.119360         0.000  West Palm Beach  Palm Beach   \n",
       "1         2  38.781024 -121.265820         0.045        Roseville      Placer   \n",
       "2         3  33.985249  -84.269348         0.000       Alpharetta      Fulton   \n",
       "3         3  47.118706 -122.556908         0.000           Tacoma      Pierce   \n",
       "4         2  33.451355 -111.890343         0.000       Scottsdale    Maricopa   \n",
       "\n",
       "  State     Zipcode Country     Timezone  ... Stop Traffic_Calming  \\\n",
       "0    FL  33417-4638      US   US/Eastern  ...    0               0   \n",
       "1    CA  95678-1907      US   US/Pacific  ...    1               0   \n",
       "2    GA       30022      US   US/Eastern  ...    0               0   \n",
       "3    WA       98433      US   US/Pacific  ...    0               0   \n",
       "4    AZ       85256      US  US/Mountain  ...    0               0   \n",
       "\n",
       "   Traffic_Signal  Turning_Loop  Duration_Minutes  Hour  DayOfWeek Month  \\\n",
       "0               1             0         60.000000     9          4     4   \n",
       "1               0             0        103.133333    10          3     4   \n",
       "2               0             0         30.000000    16          4     8   \n",
       "3               0             0         33.733333    15          4     9   \n",
       "4               0             0         76.433333    16          0     6   \n",
       "\n",
       "   IsWeekend  IsDay  \n",
       "0          0      1  \n",
       "1          0      1  \n",
       "2          0      1  \n",
       "3          0      1  \n",
       "4          0      1  \n",
       "\n",
       "[5 rows x 40 columns]"
      ]
     },
     "execution_count": 14,
     "metadata": {},
     "output_type": "execute_result"
    }
   ],
   "source": [
    "print(\"Cleaned dataset shape:\", df.shape)\n",
    "df.head()"
   ]
  }
 ],
 "metadata": {
  "kernelspec": {
   "display_name": "Python 3",
   "language": "python",
   "name": "python3"
  },
  "language_info": {
   "codemirror_mode": {
    "name": "ipython",
    "version": 3
   },
   "file_extension": ".py",
   "mimetype": "text/x-python",
   "name": "python",
   "nbconvert_exporter": "python",
   "pygments_lexer": "ipython3",
   "version": "3.11.9"
  }
 },
 "nbformat": 4,
 "nbformat_minor": 5
}
