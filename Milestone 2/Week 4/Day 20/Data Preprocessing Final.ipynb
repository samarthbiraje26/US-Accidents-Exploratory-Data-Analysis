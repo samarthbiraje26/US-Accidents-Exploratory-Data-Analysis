{
 "cells": [
  {
   "cell_type": "code",
   "execution_count": null,
   "id": "426d9a18",
   "metadata": {},
   "outputs": [],
   "source": [
    "import pandas as pd\n",
    "# Load the full dataset (replace with your actual full data file path)\n",
    "full_data_path = \"C:/Users/win10/Desktop/US_Accidents_March23.csv\"\n",
    "# data/\n",
    "df = pd.read_csv(full_data_path)\n",
    "\n",
    "# Sample 1 million rows (or all if dataset smaller)\n",
    "sample_size = min(1_000_000, len(df))\n",
    "df_sampled = df.sample(n=sample_size, random_state=42)  # random_state for reproducibility\n",
    "\n",
    "# Optional: reset index\n",
    "df_sampled.reset_index(drop=True, inplace=True)\n",
    "\n",
    "# Save sampled data\n",
    "output_path = \"US_Accidents_March23_sampled_1M.csv\"\n",
    "df_sampled.to_csv(output_path, index=False)\n",
    "\n",
    "# print(f\"Sampled {sample_size} rows saved to {output_path}\")\n"
   ]
  },
  {
   "cell_type": "code",
   "execution_count": null,
   "id": "9a1d6848",
   "metadata": {},
   "outputs": [
    {
     "ename": "FileNotFoundError",
     "evalue": "[Errno 2] No such file or directory: '../../data/US_Accidents_March23_sampled_1M.csv'",
     "output_type": "error",
     "traceback": [
      "\u001b[1;31m---------------------------------------------------------------------------\u001b[0m",
      "\u001b[1;31mFileNotFoundError\u001b[0m                         Traceback (most recent call last)",
      "Cell \u001b[1;32mIn[27], line 3\u001b[0m\n\u001b[0;32m      1\u001b[0m file_path \u001b[38;5;241m=\u001b[39m \u001b[38;5;124m\"\u001b[39m\u001b[38;5;124m../../data/US_Accidents_March23_sampled_1M.csv\u001b[39m\u001b[38;5;124m\"\u001b[39m\n\u001b[0;32m      2\u001b[0m \u001b[38;5;28;01mimport\u001b[39;00m \u001b[38;5;21;01mpandas\u001b[39;00m \u001b[38;5;28;01mas\u001b[39;00m \u001b[38;5;21;01mpd\u001b[39;00m\n\u001b[1;32m----> 3\u001b[0m df \u001b[38;5;241m=\u001b[39m \u001b[43mpd\u001b[49m\u001b[38;5;241;43m.\u001b[39;49m\u001b[43mread_csv\u001b[49m\u001b[43m(\u001b[49m\u001b[43mfile_path\u001b[49m\u001b[43m)\u001b[49m\n\u001b[0;32m      4\u001b[0m df\u001b[38;5;241m.\u001b[39mhead()\n",
      "File \u001b[1;32mc:\\Users\\win10\\python\\Python311\\Lib\\site-packages\\pandas\\io\\parsers\\readers.py:1026\u001b[0m, in \u001b[0;36mread_csv\u001b[1;34m(filepath_or_buffer, sep, delimiter, header, names, index_col, usecols, dtype, engine, converters, true_values, false_values, skipinitialspace, skiprows, skipfooter, nrows, na_values, keep_default_na, na_filter, verbose, skip_blank_lines, parse_dates, infer_datetime_format, keep_date_col, date_parser, date_format, dayfirst, cache_dates, iterator, chunksize, compression, thousands, decimal, lineterminator, quotechar, quoting, doublequote, escapechar, comment, encoding, encoding_errors, dialect, on_bad_lines, delim_whitespace, low_memory, memory_map, float_precision, storage_options, dtype_backend)\u001b[0m\n\u001b[0;32m   1013\u001b[0m kwds_defaults \u001b[38;5;241m=\u001b[39m _refine_defaults_read(\n\u001b[0;32m   1014\u001b[0m     dialect,\n\u001b[0;32m   1015\u001b[0m     delimiter,\n\u001b[1;32m   (...)\u001b[0m\n\u001b[0;32m   1022\u001b[0m     dtype_backend\u001b[38;5;241m=\u001b[39mdtype_backend,\n\u001b[0;32m   1023\u001b[0m )\n\u001b[0;32m   1024\u001b[0m kwds\u001b[38;5;241m.\u001b[39mupdate(kwds_defaults)\n\u001b[1;32m-> 1026\u001b[0m \u001b[38;5;28;01mreturn\u001b[39;00m \u001b[43m_read\u001b[49m\u001b[43m(\u001b[49m\u001b[43mfilepath_or_buffer\u001b[49m\u001b[43m,\u001b[49m\u001b[43m \u001b[49m\u001b[43mkwds\u001b[49m\u001b[43m)\u001b[49m\n",
      "File \u001b[1;32mc:\\Users\\win10\\python\\Python311\\Lib\\site-packages\\pandas\\io\\parsers\\readers.py:620\u001b[0m, in \u001b[0;36m_read\u001b[1;34m(filepath_or_buffer, kwds)\u001b[0m\n\u001b[0;32m    617\u001b[0m _validate_names(kwds\u001b[38;5;241m.\u001b[39mget(\u001b[38;5;124m\"\u001b[39m\u001b[38;5;124mnames\u001b[39m\u001b[38;5;124m\"\u001b[39m, \u001b[38;5;28;01mNone\u001b[39;00m))\n\u001b[0;32m    619\u001b[0m \u001b[38;5;66;03m# Create the parser.\u001b[39;00m\n\u001b[1;32m--> 620\u001b[0m parser \u001b[38;5;241m=\u001b[39m \u001b[43mTextFileReader\u001b[49m\u001b[43m(\u001b[49m\u001b[43mfilepath_or_buffer\u001b[49m\u001b[43m,\u001b[49m\u001b[43m \u001b[49m\u001b[38;5;241;43m*\u001b[39;49m\u001b[38;5;241;43m*\u001b[39;49m\u001b[43mkwds\u001b[49m\u001b[43m)\u001b[49m\n\u001b[0;32m    622\u001b[0m \u001b[38;5;28;01mif\u001b[39;00m chunksize \u001b[38;5;129;01mor\u001b[39;00m iterator:\n\u001b[0;32m    623\u001b[0m     \u001b[38;5;28;01mreturn\u001b[39;00m parser\n",
      "File \u001b[1;32mc:\\Users\\win10\\python\\Python311\\Lib\\site-packages\\pandas\\io\\parsers\\readers.py:1620\u001b[0m, in \u001b[0;36mTextFileReader.__init__\u001b[1;34m(self, f, engine, **kwds)\u001b[0m\n\u001b[0;32m   1617\u001b[0m     \u001b[38;5;28mself\u001b[39m\u001b[38;5;241m.\u001b[39moptions[\u001b[38;5;124m\"\u001b[39m\u001b[38;5;124mhas_index_names\u001b[39m\u001b[38;5;124m\"\u001b[39m] \u001b[38;5;241m=\u001b[39m kwds[\u001b[38;5;124m\"\u001b[39m\u001b[38;5;124mhas_index_names\u001b[39m\u001b[38;5;124m\"\u001b[39m]\n\u001b[0;32m   1619\u001b[0m \u001b[38;5;28mself\u001b[39m\u001b[38;5;241m.\u001b[39mhandles: IOHandles \u001b[38;5;241m|\u001b[39m \u001b[38;5;28;01mNone\u001b[39;00m \u001b[38;5;241m=\u001b[39m \u001b[38;5;28;01mNone\u001b[39;00m\n\u001b[1;32m-> 1620\u001b[0m \u001b[38;5;28mself\u001b[39m\u001b[38;5;241m.\u001b[39m_engine \u001b[38;5;241m=\u001b[39m \u001b[38;5;28;43mself\u001b[39;49m\u001b[38;5;241;43m.\u001b[39;49m\u001b[43m_make_engine\u001b[49m\u001b[43m(\u001b[49m\u001b[43mf\u001b[49m\u001b[43m,\u001b[49m\u001b[43m \u001b[49m\u001b[38;5;28;43mself\u001b[39;49m\u001b[38;5;241;43m.\u001b[39;49m\u001b[43mengine\u001b[49m\u001b[43m)\u001b[49m\n",
      "File \u001b[1;32mc:\\Users\\win10\\python\\Python311\\Lib\\site-packages\\pandas\\io\\parsers\\readers.py:1880\u001b[0m, in \u001b[0;36mTextFileReader._make_engine\u001b[1;34m(self, f, engine)\u001b[0m\n\u001b[0;32m   1878\u001b[0m     \u001b[38;5;28;01mif\u001b[39;00m \u001b[38;5;124m\"\u001b[39m\u001b[38;5;124mb\u001b[39m\u001b[38;5;124m\"\u001b[39m \u001b[38;5;129;01mnot\u001b[39;00m \u001b[38;5;129;01min\u001b[39;00m mode:\n\u001b[0;32m   1879\u001b[0m         mode \u001b[38;5;241m+\u001b[39m\u001b[38;5;241m=\u001b[39m \u001b[38;5;124m\"\u001b[39m\u001b[38;5;124mb\u001b[39m\u001b[38;5;124m\"\u001b[39m\n\u001b[1;32m-> 1880\u001b[0m \u001b[38;5;28mself\u001b[39m\u001b[38;5;241m.\u001b[39mhandles \u001b[38;5;241m=\u001b[39m \u001b[43mget_handle\u001b[49m\u001b[43m(\u001b[49m\n\u001b[0;32m   1881\u001b[0m \u001b[43m    \u001b[49m\u001b[43mf\u001b[49m\u001b[43m,\u001b[49m\n\u001b[0;32m   1882\u001b[0m \u001b[43m    \u001b[49m\u001b[43mmode\u001b[49m\u001b[43m,\u001b[49m\n\u001b[0;32m   1883\u001b[0m \u001b[43m    \u001b[49m\u001b[43mencoding\u001b[49m\u001b[38;5;241;43m=\u001b[39;49m\u001b[38;5;28;43mself\u001b[39;49m\u001b[38;5;241;43m.\u001b[39;49m\u001b[43moptions\u001b[49m\u001b[38;5;241;43m.\u001b[39;49m\u001b[43mget\u001b[49m\u001b[43m(\u001b[49m\u001b[38;5;124;43m\"\u001b[39;49m\u001b[38;5;124;43mencoding\u001b[39;49m\u001b[38;5;124;43m\"\u001b[39;49m\u001b[43m,\u001b[49m\u001b[43m \u001b[49m\u001b[38;5;28;43;01mNone\u001b[39;49;00m\u001b[43m)\u001b[49m\u001b[43m,\u001b[49m\n\u001b[0;32m   1884\u001b[0m \u001b[43m    \u001b[49m\u001b[43mcompression\u001b[49m\u001b[38;5;241;43m=\u001b[39;49m\u001b[38;5;28;43mself\u001b[39;49m\u001b[38;5;241;43m.\u001b[39;49m\u001b[43moptions\u001b[49m\u001b[38;5;241;43m.\u001b[39;49m\u001b[43mget\u001b[49m\u001b[43m(\u001b[49m\u001b[38;5;124;43m\"\u001b[39;49m\u001b[38;5;124;43mcompression\u001b[39;49m\u001b[38;5;124;43m\"\u001b[39;49m\u001b[43m,\u001b[49m\u001b[43m \u001b[49m\u001b[38;5;28;43;01mNone\u001b[39;49;00m\u001b[43m)\u001b[49m\u001b[43m,\u001b[49m\n\u001b[0;32m   1885\u001b[0m \u001b[43m    \u001b[49m\u001b[43mmemory_map\u001b[49m\u001b[38;5;241;43m=\u001b[39;49m\u001b[38;5;28;43mself\u001b[39;49m\u001b[38;5;241;43m.\u001b[39;49m\u001b[43moptions\u001b[49m\u001b[38;5;241;43m.\u001b[39;49m\u001b[43mget\u001b[49m\u001b[43m(\u001b[49m\u001b[38;5;124;43m\"\u001b[39;49m\u001b[38;5;124;43mmemory_map\u001b[39;49m\u001b[38;5;124;43m\"\u001b[39;49m\u001b[43m,\u001b[49m\u001b[43m \u001b[49m\u001b[38;5;28;43;01mFalse\u001b[39;49;00m\u001b[43m)\u001b[49m\u001b[43m,\u001b[49m\n\u001b[0;32m   1886\u001b[0m \u001b[43m    \u001b[49m\u001b[43mis_text\u001b[49m\u001b[38;5;241;43m=\u001b[39;49m\u001b[43mis_text\u001b[49m\u001b[43m,\u001b[49m\n\u001b[0;32m   1887\u001b[0m \u001b[43m    \u001b[49m\u001b[43merrors\u001b[49m\u001b[38;5;241;43m=\u001b[39;49m\u001b[38;5;28;43mself\u001b[39;49m\u001b[38;5;241;43m.\u001b[39;49m\u001b[43moptions\u001b[49m\u001b[38;5;241;43m.\u001b[39;49m\u001b[43mget\u001b[49m\u001b[43m(\u001b[49m\u001b[38;5;124;43m\"\u001b[39;49m\u001b[38;5;124;43mencoding_errors\u001b[39;49m\u001b[38;5;124;43m\"\u001b[39;49m\u001b[43m,\u001b[49m\u001b[43m \u001b[49m\u001b[38;5;124;43m\"\u001b[39;49m\u001b[38;5;124;43mstrict\u001b[39;49m\u001b[38;5;124;43m\"\u001b[39;49m\u001b[43m)\u001b[49m\u001b[43m,\u001b[49m\n\u001b[0;32m   1888\u001b[0m \u001b[43m    \u001b[49m\u001b[43mstorage_options\u001b[49m\u001b[38;5;241;43m=\u001b[39;49m\u001b[38;5;28;43mself\u001b[39;49m\u001b[38;5;241;43m.\u001b[39;49m\u001b[43moptions\u001b[49m\u001b[38;5;241;43m.\u001b[39;49m\u001b[43mget\u001b[49m\u001b[43m(\u001b[49m\u001b[38;5;124;43m\"\u001b[39;49m\u001b[38;5;124;43mstorage_options\u001b[39;49m\u001b[38;5;124;43m\"\u001b[39;49m\u001b[43m,\u001b[49m\u001b[43m \u001b[49m\u001b[38;5;28;43;01mNone\u001b[39;49;00m\u001b[43m)\u001b[49m\u001b[43m,\u001b[49m\n\u001b[0;32m   1889\u001b[0m \u001b[43m\u001b[49m\u001b[43m)\u001b[49m\n\u001b[0;32m   1890\u001b[0m \u001b[38;5;28;01massert\u001b[39;00m \u001b[38;5;28mself\u001b[39m\u001b[38;5;241m.\u001b[39mhandles \u001b[38;5;129;01mis\u001b[39;00m \u001b[38;5;129;01mnot\u001b[39;00m \u001b[38;5;28;01mNone\u001b[39;00m\n\u001b[0;32m   1891\u001b[0m f \u001b[38;5;241m=\u001b[39m \u001b[38;5;28mself\u001b[39m\u001b[38;5;241m.\u001b[39mhandles\u001b[38;5;241m.\u001b[39mhandle\n",
      "File \u001b[1;32mc:\\Users\\win10\\python\\Python311\\Lib\\site-packages\\pandas\\io\\common.py:873\u001b[0m, in \u001b[0;36mget_handle\u001b[1;34m(path_or_buf, mode, encoding, compression, memory_map, is_text, errors, storage_options)\u001b[0m\n\u001b[0;32m    868\u001b[0m \u001b[38;5;28;01melif\u001b[39;00m \u001b[38;5;28misinstance\u001b[39m(handle, \u001b[38;5;28mstr\u001b[39m):\n\u001b[0;32m    869\u001b[0m     \u001b[38;5;66;03m# Check whether the filename is to be opened in binary mode.\u001b[39;00m\n\u001b[0;32m    870\u001b[0m     \u001b[38;5;66;03m# Binary mode does not support 'encoding' and 'newline'.\u001b[39;00m\n\u001b[0;32m    871\u001b[0m     \u001b[38;5;28;01mif\u001b[39;00m ioargs\u001b[38;5;241m.\u001b[39mencoding \u001b[38;5;129;01mand\u001b[39;00m \u001b[38;5;124m\"\u001b[39m\u001b[38;5;124mb\u001b[39m\u001b[38;5;124m\"\u001b[39m \u001b[38;5;129;01mnot\u001b[39;00m \u001b[38;5;129;01min\u001b[39;00m ioargs\u001b[38;5;241m.\u001b[39mmode:\n\u001b[0;32m    872\u001b[0m         \u001b[38;5;66;03m# Encoding\u001b[39;00m\n\u001b[1;32m--> 873\u001b[0m         handle \u001b[38;5;241m=\u001b[39m \u001b[38;5;28;43mopen\u001b[39;49m\u001b[43m(\u001b[49m\n\u001b[0;32m    874\u001b[0m \u001b[43m            \u001b[49m\u001b[43mhandle\u001b[49m\u001b[43m,\u001b[49m\n\u001b[0;32m    875\u001b[0m \u001b[43m            \u001b[49m\u001b[43mioargs\u001b[49m\u001b[38;5;241;43m.\u001b[39;49m\u001b[43mmode\u001b[49m\u001b[43m,\u001b[49m\n\u001b[0;32m    876\u001b[0m \u001b[43m            \u001b[49m\u001b[43mencoding\u001b[49m\u001b[38;5;241;43m=\u001b[39;49m\u001b[43mioargs\u001b[49m\u001b[38;5;241;43m.\u001b[39;49m\u001b[43mencoding\u001b[49m\u001b[43m,\u001b[49m\n\u001b[0;32m    877\u001b[0m \u001b[43m            \u001b[49m\u001b[43merrors\u001b[49m\u001b[38;5;241;43m=\u001b[39;49m\u001b[43merrors\u001b[49m\u001b[43m,\u001b[49m\n\u001b[0;32m    878\u001b[0m \u001b[43m            \u001b[49m\u001b[43mnewline\u001b[49m\u001b[38;5;241;43m=\u001b[39;49m\u001b[38;5;124;43m\"\u001b[39;49m\u001b[38;5;124;43m\"\u001b[39;49m\u001b[43m,\u001b[49m\n\u001b[0;32m    879\u001b[0m \u001b[43m        \u001b[49m\u001b[43m)\u001b[49m\n\u001b[0;32m    880\u001b[0m     \u001b[38;5;28;01melse\u001b[39;00m:\n\u001b[0;32m    881\u001b[0m         \u001b[38;5;66;03m# Binary mode\u001b[39;00m\n\u001b[0;32m    882\u001b[0m         handle \u001b[38;5;241m=\u001b[39m \u001b[38;5;28mopen\u001b[39m(handle, ioargs\u001b[38;5;241m.\u001b[39mmode)\n",
      "\u001b[1;31mFileNotFoundError\u001b[0m: [Errno 2] No such file or directory: '../../data/US_Accidents_March23_sampled_1M.csv'"
     ]
    }
   ],
   "source": [
    "df = pd.read_csv('US_Accidents_March23_sampled_1M.csv')\n",
    "df.head()"
   ]
  },
  {
   "cell_type": "code",
   "execution_count": 3,
   "id": "97f2492a",
   "metadata": {},
   "outputs": [
    {
     "name": "stdout",
     "output_type": "stream",
     "text": [
      "<class 'pandas.core.frame.DataFrame'>\n",
      "RangeIndex: 1000000 entries, 0 to 999999\n",
      "Data columns (total 46 columns):\n",
      " #   Column                 Non-Null Count    Dtype  \n",
      "---  ------                 --------------    -----  \n",
      " 0   ID                     1000000 non-null  object \n",
      " 1   Source                 1000000 non-null  object \n",
      " 2   Severity               1000000 non-null  int64  \n",
      " 3   Start_Time             1000000 non-null  object \n",
      " 4   End_Time               1000000 non-null  object \n",
      " 5   Start_Lat              1000000 non-null  float64\n",
      " 6   Start_Lng              1000000 non-null  float64\n",
      " 7   End_Lat                559358 non-null   float64\n",
      " 8   End_Lng                559358 non-null   float64\n",
      " 9   Distance(mi)           1000000 non-null  float64\n",
      " 10  Description            999999 non-null   object \n",
      " 11  Street                 998593 non-null   object \n",
      " 12  City                   999964 non-null   object \n",
      " 13  County                 1000000 non-null  object \n",
      " 14  State                  1000000 non-null  object \n",
      " 15  Zipcode                999755 non-null   object \n",
      " 16  Country                1000000 non-null  object \n",
      " 17  Timezone               999007 non-null   object \n",
      " 18  Airport_Code           997099 non-null   object \n",
      " 19  Weather_Timestamp      984422 non-null   object \n",
      " 20  Temperature(F)         978811 non-null   float64\n",
      " 21  Wind_Chill(F)          741085 non-null   float64\n",
      " 22  Humidity(%)            977513 non-null   float64\n",
      " 23  Pressure(in)           981780 non-null   float64\n",
      " 24  Visibility(mi)         977075 non-null   float64\n",
      " 25  Wind_Direction         977182 non-null   object \n",
      " 26  Wind_Speed(mph)        925598 non-null   float64\n",
      " 27  Precipitation(in)      714393 non-null   float64\n",
      " 28  Weather_Condition      977560 non-null   object \n",
      " 29  Amenity                1000000 non-null  bool   \n",
      " 30  Bump                   1000000 non-null  bool   \n",
      " 31  Crossing               1000000 non-null  bool   \n",
      " 32  Give_Way               1000000 non-null  bool   \n",
      " 33  Junction               1000000 non-null  bool   \n",
      " 34  No_Exit                1000000 non-null  bool   \n",
      " 35  Railway                1000000 non-null  bool   \n",
      " 36  Roundabout             1000000 non-null  bool   \n",
      " 37  Station                1000000 non-null  bool   \n",
      " 38  Stop                   1000000 non-null  bool   \n",
      " 39  Traffic_Calming        1000000 non-null  bool   \n",
      " 40  Traffic_Signal         1000000 non-null  bool   \n",
      " 41  Turning_Loop           1000000 non-null  bool   \n",
      " 42  Sunrise_Sunset         996913 non-null   object \n",
      " 43  Civil_Twilight         996913 non-null   object \n",
      " 44  Nautical_Twilight      996913 non-null   object \n",
      " 45  Astronomical_Twilight  996913 non-null   object \n",
      "dtypes: bool(13), float64(12), int64(1), object(20)\n",
      "memory usage: 264.2+ MB\n"
     ]
    }
   ],
   "source": [
    "df.info()"
   ]
  },
  {
   "cell_type": "code",
   "execution_count": 4,
   "id": "51d59c2b",
   "metadata": {},
   "outputs": [
    {
     "data": {
      "text/plain": [
       "ID                        0.0000\n",
       "Source                    0.0000\n",
       "Severity                  0.0000\n",
       "Start_Time                0.0000\n",
       "End_Time                  0.0000\n",
       "Start_Lat                 0.0000\n",
       "Start_Lng                 0.0000\n",
       "End_Lat                  44.0642\n",
       "End_Lng                  44.0642\n",
       "Distance(mi)              0.0000\n",
       "Description               0.0001\n",
       "Street                    0.1407\n",
       "City                      0.0036\n",
       "County                    0.0000\n",
       "State                     0.0000\n",
       "Zipcode                   0.0245\n",
       "Country                   0.0000\n",
       "Timezone                  0.0993\n",
       "Airport_Code              0.2901\n",
       "Weather_Timestamp         1.5578\n",
       "Temperature(F)            2.1189\n",
       "Wind_Chill(F)            25.8915\n",
       "Humidity(%)               2.2487\n",
       "Pressure(in)              1.8220\n",
       "Visibility(mi)            2.2925\n",
       "Wind_Direction            2.2818\n",
       "Wind_Speed(mph)           7.4402\n",
       "Precipitation(in)        28.5607\n",
       "Weather_Condition         2.2440\n",
       "Amenity                   0.0000\n",
       "Bump                      0.0000\n",
       "Crossing                  0.0000\n",
       "Give_Way                  0.0000\n",
       "Junction                  0.0000\n",
       "No_Exit                   0.0000\n",
       "Railway                   0.0000\n",
       "Roundabout                0.0000\n",
       "Station                   0.0000\n",
       "Stop                      0.0000\n",
       "Traffic_Calming           0.0000\n",
       "Traffic_Signal            0.0000\n",
       "Turning_Loop              0.0000\n",
       "Sunrise_Sunset            0.3087\n",
       "Civil_Twilight            0.3087\n",
       "Nautical_Twilight         0.3087\n",
       "Astronomical_Twilight     0.3087\n",
       "dtype: float64"
      ]
     },
     "execution_count": 4,
     "metadata": {},
     "output_type": "execute_result"
    }
   ],
   "source": [
    "(df.isnull().sum() / df.shape[0])*100"
   ]
  },
  {
   "cell_type": "code",
   "execution_count": 5,
   "id": "cb11984f",
   "metadata": {},
   "outputs": [],
   "source": [
    "# Drop the columns of 'End_Lat', 'End_Lng'\n",
    "df = df.drop(columns=['End_Lat', 'End_Lng'])"
   ]
  },
  {
   "cell_type": "code",
   "execution_count": 6,
   "id": "e5aca1e9",
   "metadata": {},
   "outputs": [
    {
     "name": "stdout",
     "output_type": "stream",
     "text": [
      "<class 'pandas.core.frame.DataFrame'>\n",
      "RangeIndex: 1000000 entries, 0 to 999999\n",
      "Data columns (total 44 columns):\n",
      " #   Column                 Non-Null Count    Dtype         \n",
      "---  ------                 --------------    -----         \n",
      " 0   ID                     1000000 non-null  object        \n",
      " 1   Source                 1000000 non-null  object        \n",
      " 2   Severity               1000000 non-null  int64         \n",
      " 3   Start_Time             1000000 non-null  datetime64[ns]\n",
      " 4   End_Time               1000000 non-null  datetime64[ns]\n",
      " 5   Start_Lat              1000000 non-null  float64       \n",
      " 6   Start_Lng              1000000 non-null  float64       \n",
      " 7   Distance(mi)           1000000 non-null  float64       \n",
      " 8   Description            999999 non-null   object        \n",
      " 9   Street                 998593 non-null   object        \n",
      " 10  City                   999964 non-null   object        \n",
      " 11  County                 1000000 non-null  object        \n",
      " 12  State                  1000000 non-null  object        \n",
      " 13  Zipcode                999755 non-null   object        \n",
      " 14  Country                1000000 non-null  object        \n",
      " 15  Timezone               999007 non-null   object        \n",
      " 16  Airport_Code           997099 non-null   object        \n",
      " 17  Weather_Timestamp      984422 non-null   object        \n",
      " 18  Temperature(F)         978811 non-null   float64       \n",
      " 19  Wind_Chill(F)          741085 non-null   float64       \n",
      " 20  Humidity(%)            977513 non-null   float64       \n",
      " 21  Pressure(in)           981780 non-null   float64       \n",
      " 22  Visibility(mi)         977075 non-null   float64       \n",
      " 23  Wind_Direction         977182 non-null   object        \n",
      " 24  Wind_Speed(mph)        925598 non-null   float64       \n",
      " 25  Precipitation(in)      714393 non-null   float64       \n",
      " 26  Weather_Condition      977560 non-null   object        \n",
      " 27  Amenity                1000000 non-null  bool          \n",
      " 28  Bump                   1000000 non-null  bool          \n",
      " 29  Crossing               1000000 non-null  bool          \n",
      " 30  Give_Way               1000000 non-null  bool          \n",
      " 31  Junction               1000000 non-null  bool          \n",
      " 32  No_Exit                1000000 non-null  bool          \n",
      " 33  Railway                1000000 non-null  bool          \n",
      " 34  Roundabout             1000000 non-null  bool          \n",
      " 35  Station                1000000 non-null  bool          \n",
      " 36  Stop                   1000000 non-null  bool          \n",
      " 37  Traffic_Calming        1000000 non-null  bool          \n",
      " 38  Traffic_Signal         1000000 non-null  bool          \n",
      " 39  Turning_Loop           1000000 non-null  bool          \n",
      " 40  Sunrise_Sunset         996913 non-null   object        \n",
      " 41  Civil_Twilight         996913 non-null   object        \n",
      " 42  Nautical_Twilight      996913 non-null   object        \n",
      " 43  Astronomical_Twilight  996913 non-null   object        \n",
      "dtypes: bool(13), datetime64[ns](2), float64(10), int64(1), object(18)\n",
      "memory usage: 248.9+ MB\n"
     ]
    }
   ],
   "source": [
    "# Convert the 'Start_Time' and 'End_Time' columns to datetime format\n",
    "df['Start_Time'] = pd.to_datetime(df['Start_Time'], format='mixed')\n",
    "df['End_Time'] = pd.to_datetime(df['End_Time'], format='mixed')\n",
    "df.info()"
   ]
  },
  {
   "cell_type": "code",
   "execution_count": 7,
   "id": "5074c067",
   "metadata": {},
   "outputs": [],
   "source": [
    "# Convert coordinates to numeric (if not already)\n",
    "df['Start_Lat'] = pd.to_numeric(df['Start_Lat'], errors='coerce')\n",
    "df['Start_Lng'] = pd.to_numeric(df['Start_Lng'], errors='coerce')"
   ]
  },
  {
   "cell_type": "code",
   "execution_count": 8,
   "id": "ac96ac2e",
   "metadata": {},
   "outputs": [
    {
     "data": {
      "text/plain": [
       "ID                        0.0000\n",
       "Source                    0.0000\n",
       "Severity                  0.0000\n",
       "Start_Time                0.0000\n",
       "End_Time                  0.0000\n",
       "Start_Lat                 0.0000\n",
       "Start_Lng                 0.0000\n",
       "Distance(mi)              0.0000\n",
       "Description               0.0001\n",
       "Street                    0.1407\n",
       "City                      0.0036\n",
       "County                    0.0000\n",
       "State                     0.0000\n",
       "Zipcode                   0.0245\n",
       "Country                   0.0000\n",
       "Timezone                  0.0993\n",
       "Airport_Code              0.2901\n",
       "Weather_Timestamp         1.5578\n",
       "Temperature(F)            2.1189\n",
       "Wind_Chill(F)            25.8915\n",
       "Humidity(%)               2.2487\n",
       "Pressure(in)              1.8220\n",
       "Visibility(mi)            2.2925\n",
       "Wind_Direction            2.2818\n",
       "Wind_Speed(mph)           7.4402\n",
       "Precipitation(in)        28.5607\n",
       "Weather_Condition         2.2440\n",
       "Amenity                   0.0000\n",
       "Bump                      0.0000\n",
       "Crossing                  0.0000\n",
       "Give_Way                  0.0000\n",
       "Junction                  0.0000\n",
       "No_Exit                   0.0000\n",
       "Railway                   0.0000\n",
       "Roundabout                0.0000\n",
       "Station                   0.0000\n",
       "Stop                      0.0000\n",
       "Traffic_Calming           0.0000\n",
       "Traffic_Signal            0.0000\n",
       "Turning_Loop              0.0000\n",
       "Sunrise_Sunset            0.3087\n",
       "Civil_Twilight            0.3087\n",
       "Nautical_Twilight         0.3087\n",
       "Astronomical_Twilight     0.3087\n",
       "dtype: float64"
      ]
     },
     "execution_count": 8,
     "metadata": {},
     "output_type": "execute_result"
    }
   ],
   "source": [
    "(df.isnull().sum() / df.shape[0])*100"
   ]
  },
  {
   "cell_type": "code",
   "execution_count": 9,
   "id": "c730124f",
   "metadata": {},
   "outputs": [],
   "source": [
    "# Drop the rows with missing values except some columns.\n",
    "df = df.dropna(subset=['ID', 'Source', 'Severity', 'Start_Time', 'End_Time', 'Start_Lat',\n",
    "       'Start_Lng', 'Distance(mi)', 'Description', 'Street', 'City', 'County',\n",
    "       'State', 'Zipcode', 'Country', 'Timezone', 'Airport_Code',\n",
    "       'Weather_Timestamp', 'Temperature(F)', 'Humidity(%)',\n",
    "       'Pressure(in)', 'Visibility(mi)', 'Wind_Direction','Weather_Condition', 'Amenity', 'Bump', 'Crossing',\n",
    "       'Give_Way', 'Junction', 'No_Exit', 'Railway', 'Roundabout', 'Station',\n",
    "       'Stop', 'Traffic_Calming', 'Traffic_Signal', 'Turning_Loop',\n",
    "       'Sunrise_Sunset', 'Civil_Twilight', 'Nautical_Twilight',\n",
    "       'Astronomical_Twilight'])"
   ]
  },
  {
   "cell_type": "code",
   "execution_count": 10,
   "id": "23b5808e",
   "metadata": {},
   "outputs": [
    {
     "data": {
      "text/plain": [
       "ID                        0.000000\n",
       "Source                    0.000000\n",
       "Severity                  0.000000\n",
       "Start_Time                0.000000\n",
       "End_Time                  0.000000\n",
       "Start_Lat                 0.000000\n",
       "Start_Lng                 0.000000\n",
       "Distance(mi)              0.000000\n",
       "Description               0.000000\n",
       "Street                    0.000000\n",
       "City                      0.000000\n",
       "County                    0.000000\n",
       "State                     0.000000\n",
       "Zipcode                   0.000000\n",
       "Country                   0.000000\n",
       "Timezone                  0.000000\n",
       "Airport_Code              0.000000\n",
       "Weather_Timestamp         0.000000\n",
       "Temperature(F)            0.000000\n",
       "Wind_Chill(F)            23.854236\n",
       "Humidity(%)               0.000000\n",
       "Pressure(in)              0.000000\n",
       "Visibility(mi)            0.000000\n",
       "Wind_Direction            0.000000\n",
       "Wind_Speed(mph)           5.089997\n",
       "Precipitation(in)        27.520515\n",
       "Weather_Condition         0.000000\n",
       "Amenity                   0.000000\n",
       "Bump                      0.000000\n",
       "Crossing                  0.000000\n",
       "Give_Way                  0.000000\n",
       "Junction                  0.000000\n",
       "No_Exit                   0.000000\n",
       "Railway                   0.000000\n",
       "Roundabout                0.000000\n",
       "Station                   0.000000\n",
       "Stop                      0.000000\n",
       "Traffic_Calming           0.000000\n",
       "Traffic_Signal            0.000000\n",
       "Turning_Loop              0.000000\n",
       "Sunrise_Sunset            0.000000\n",
       "Civil_Twilight            0.000000\n",
       "Nautical_Twilight         0.000000\n",
       "Astronomical_Twilight     0.000000\n",
       "dtype: float64"
      ]
     },
     "execution_count": 10,
     "metadata": {},
     "output_type": "execute_result"
    }
   ],
   "source": [
    "(df.isnull().sum() / df.shape[0])*100"
   ]
  },
  {
   "cell_type": "code",
   "execution_count": 11,
   "id": "c00bb8ca",
   "metadata": {},
   "outputs": [
    {
     "data": {
      "text/html": [
       "<div>\n",
       "<style scoped>\n",
       "    .dataframe tbody tr th:only-of-type {\n",
       "        vertical-align: middle;\n",
       "    }\n",
       "\n",
       "    .dataframe tbody tr th {\n",
       "        vertical-align: top;\n",
       "    }\n",
       "\n",
       "    .dataframe thead th {\n",
       "        text-align: right;\n",
       "    }\n",
       "</style>\n",
       "<table border=\"1\" class=\"dataframe\">\n",
       "  <thead>\n",
       "    <tr style=\"text-align: right;\">\n",
       "      <th></th>\n",
       "      <th>Wind_Chill(F)</th>\n",
       "      <th>Wind_Speed(mph)</th>\n",
       "      <th>Precipitation(in)</th>\n",
       "    </tr>\n",
       "  </thead>\n",
       "  <tbody>\n",
       "    <tr>\n",
       "      <th>605527</th>\n",
       "      <td>54.0</td>\n",
       "      <td>6.0</td>\n",
       "      <td>0.00</td>\n",
       "    </tr>\n",
       "    <tr>\n",
       "      <th>52283</th>\n",
       "      <td>31.0</td>\n",
       "      <td>6.0</td>\n",
       "      <td>0.05</td>\n",
       "    </tr>\n",
       "    <tr>\n",
       "      <th>366789</th>\n",
       "      <td>44.0</td>\n",
       "      <td>0.0</td>\n",
       "      <td>0.00</td>\n",
       "    </tr>\n",
       "    <tr>\n",
       "      <th>858773</th>\n",
       "      <td>NaN</td>\n",
       "      <td>5.8</td>\n",
       "      <td>NaN</td>\n",
       "    </tr>\n",
       "    <tr>\n",
       "      <th>729998</th>\n",
       "      <td>29.0</td>\n",
       "      <td>5.0</td>\n",
       "      <td>0.02</td>\n",
       "    </tr>\n",
       "  </tbody>\n",
       "</table>\n",
       "</div>"
      ],
      "text/plain": [
       "        Wind_Chill(F)  Wind_Speed(mph)  Precipitation(in)\n",
       "605527           54.0              6.0               0.00\n",
       "52283            31.0              6.0               0.05\n",
       "366789           44.0              0.0               0.00\n",
       "858773            NaN              5.8                NaN\n",
       "729998           29.0              5.0               0.02"
      ]
     },
     "execution_count": 11,
     "metadata": {},
     "output_type": "execute_result"
    }
   ],
   "source": [
    "df[['Wind_Chill(F)', 'Wind_Speed(mph)', 'Precipitation(in)']].sample(5)"
   ]
  },
  {
   "cell_type": "code",
   "execution_count": 12,
   "id": "40c8255b",
   "metadata": {},
   "outputs": [
    {
     "data": {
      "text/plain": [
       "Wind_Chill(F)        23.854236\n",
       "Wind_Speed(mph)       5.089997\n",
       "Precipitation(in)    27.520515\n",
       "dtype: float64"
      ]
     },
     "execution_count": 12,
     "metadata": {},
     "output_type": "execute_result"
    }
   ],
   "source": [
    "(df[['Wind_Chill(F)', 'Wind_Speed(mph)', 'Precipitation(in)']].isnull().sum())/df.shape[0]*100"
   ]
  },
  {
   "cell_type": "code",
   "execution_count": 13,
   "id": "5e2ed222",
   "metadata": {},
   "outputs": [],
   "source": [
    "# Median imputation for Wind_Speed(mph)\n",
    "wind_median = df['Wind_Speed(mph)'].median()\n",
    "df['Wind_Speed(mph)'] = df['Wind_Speed(mph)'].fillna(wind_median)\n",
    "\n",
    "# Primary imputation for Precipitation(in): zero-fill\n",
    "df['Precipitation(in)'] = df['Precipitation(in)'].fillna(0.0)\n",
    "\n",
    "# Secondary imputation for known rain days: fill remaining gaps with median of nonzero precipitation\n",
    "median_nonzero_precip = df.loc[df['Precipitation(in)'] > 0, 'Precipitation(in)'].median()\n",
    "\n",
    "# Example mask for known rain days (replace with your actual condition)\n",
    "# e.g., df['Rain_Flag'] == 1 or based on another indicator column\n",
    "rain_day_mask = df['Precipitation(in)'].isna()  # placeholder if original missing flags retained\n",
    "\n",
    "# Apply secondary imputation\n",
    "df.loc[rain_day_mask, 'Precipitation(in)'] = median_nonzero_precip\n"
   ]
  },
  {
   "cell_type": "code",
   "execution_count": 14,
   "id": "f4da5c2a",
   "metadata": {},
   "outputs": [],
   "source": [
    "from sklearn.linear_model import LinearRegression\n",
    "\n",
    "# Select features to predict Wind_Chill(F)\n",
    "reg_features = ['Wind_Speed(mph)', 'Temperature(F)', 'Humidity(%)']  # adjust to available predictors\n",
    "\n",
    "# Split known and unknown\n",
    "known_wc = df[df['Wind_Chill(F)'].notna()]\n",
    "unknown_wc = df[df['Wind_Chill(F)'].isna()]\n",
    "\n",
    "# Train regression model\n",
    "X_train = known_wc[reg_features]\n",
    "y_train = known_wc['Wind_Chill(F)']\n",
    "reg = LinearRegression()\n",
    "reg.fit(X_train, y_train)\n",
    "\n",
    "# Predict missing Wind_Chill(F)\n",
    "X_pred = unknown_wc[reg_features]\n",
    "predicted_wc = reg.predict(X_pred)\n",
    "\n",
    "# Impute missing values\n",
    "df.loc[df['Wind_Chill(F)'].isna(), 'Wind_Chill(F)'] = predicted_wc\n"
   ]
  },
  {
   "cell_type": "code",
   "execution_count": 15,
   "id": "5ea4e6a8",
   "metadata": {},
   "outputs": [
    {
     "data": {
      "text/plain": [
       "Wind_Chill(F)        0.0\n",
       "Wind_Speed(mph)      0.0\n",
       "Precipitation(in)    0.0\n",
       "dtype: float64"
      ]
     },
     "execution_count": 15,
     "metadata": {},
     "output_type": "execute_result"
    }
   ],
   "source": [
    "(df[['Wind_Chill(F)', 'Wind_Speed(mph)', 'Precipitation(in)']].isnull().sum())/df.shape[0]*100"
   ]
  },
  {
   "cell_type": "code",
   "execution_count": 16,
   "id": "455d48b9",
   "metadata": {},
   "outputs": [],
   "source": [
    "# 1. Parse datetimes\n",
    "df[\"Start_Time\"] = pd.to_datetime(df[\"Start_Time\"], errors=\"coerce\")\n",
    "df[\"End_Time\"]   = pd.to_datetime(df[\"End_Time\"], errors=\"coerce\")"
   ]
  },
  {
   "cell_type": "code",
   "execution_count": 17,
   "id": "1b34d474",
   "metadata": {},
   "outputs": [],
   "source": [
    "# 2. Drop duplicates and rows with invalid times\n",
    "df = df.drop_duplicates(subset=\"ID\")\n",
    "df = df.dropna(subset=[\"Start_Time\", \"End_Time\"])"
   ]
  },
  {
   "cell_type": "code",
   "execution_count": 18,
   "id": "8d8a5e4b",
   "metadata": {},
   "outputs": [],
   "source": [
    "# 3. Drop rows missing critical location data\n",
    "df = df.dropna(subset=[\"Start_Lat\", \"Start_Lng\"])"
   ]
  },
  {
   "cell_type": "code",
   "execution_count": 19,
   "id": "727af48e",
   "metadata": {},
   "outputs": [],
   "source": [
    "# 4. Compute incident duration in minutes\n",
    "df[\"Duration_Minutes\"] = (df[\"End_Time\"] - df[\"Start_Time\"]).dt.total_seconds() / 60"
   ]
  },
  {
   "cell_type": "code",
   "execution_count": 20,
   "id": "f6e3b044",
   "metadata": {},
   "outputs": [],
   "source": [
    "# 5. Extract temporal features\n",
    "df[\"Hour\"]        = df[\"Start_Time\"].dt.hour\n",
    "df[\"DayOfWeek\"]   = df[\"Start_Time\"].dt.weekday\n",
    "df[\"Month\"]       = df[\"Start_Time\"].dt.month\n",
    "df[\"IsWeekend\"]   = df[\"DayOfWeek\"].isin([5,6]).astype(int)"
   ]
  },
  {
   "cell_type": "code",
   "execution_count": 21,
   "id": "c4c73119",
   "metadata": {},
   "outputs": [],
   "source": [
    "# 6. Encode boolean traffic feature flags as integers\n",
    "bool_cols = [\n",
    "    \"Roundabout\",\n",
    "    \"Station\",\n",
    "    \"Stop\",\n",
    "    \"Traffic_Calming\",\n",
    "    \"Traffic_Signal\",\n",
    "    \"Turning_Loop\"\n",
    "]\n",
    "for col in bool_cols:\n",
    "    df[col] = df[col].astype(int)"
   ]
  },
  {
   "cell_type": "code",
   "execution_count": 22,
   "id": "8c8c80dc",
   "metadata": {},
   "outputs": [],
   "source": [
    "# 7. Encode light condition as binary day/night\n",
    "df[\"IsDay\"] = (df[\"Sunrise_Sunset\"] == \"Day\").astype(int)"
   ]
  },
  {
   "cell_type": "code",
   "execution_count": 23,
   "id": "ef312d70",
   "metadata": {},
   "outputs": [],
   "source": [
    "# 8. Drop columns not used for modeling\n",
    "drop_cols = [\n",
    "    \"ID\",\n",
    "    \"Source\",\n",
    "    \"Description\",\n",
    "    \"Street\",\n",
    "    \"Start_Time\",\n",
    "    \"End_Time\",\n",
    "    \"Sunrise_Sunset\",\n",
    "    \"Civil_Twilight\",\n",
    "    \"Nautical_Twilight\",\n",
    "    \"Astronomical_Twilight\"\n",
    "]\n",
    "df = df.drop(columns=drop_cols)"
   ]
  },
  {
   "cell_type": "code",
   "execution_count": 24,
   "id": "c76a14be",
   "metadata": {},
   "outputs": [],
   "source": [
    "# 9. Handle missing values in numeric columns\n",
    "#    Fill numeric NaNs with median\n",
    "num_cols = df.select_dtypes(include=\"number\").columns.tolist()\n",
    "for col in num_cols:\n",
    "    df[col] = df[col].fillna(df[col].median())"
   ]
  },
  {
   "cell_type": "code",
   "execution_count": 25,
   "id": "4cfb4d84",
   "metadata": {},
   "outputs": [],
   "source": [
    "# 10. Final clean-up: remove any remaining rows with NaNs\n",
    "df = df.dropna()"
   ]
  },
  {
   "cell_type": "code",
   "execution_count": 26,
   "id": "e1e112aa",
   "metadata": {},
   "outputs": [],
   "source": [
    "# 11. stratify/drop rare severity classes if needed\n",
    "# e.g., keep only severity levels 1-4\n",
    "df = df[df[\"Severity\"].isin([1,2,3,4])]\n",
    "\n",
    "# Save cleaned dataset\n",
    "df.to_csv(\"accidents_cleaned.csv\", index=False)"
   ]
  }
 ],
 "metadata": {
  "kernelspec": {
   "display_name": "Python 3",
   "language": "python",
   "name": "python3"
  },
  "language_info": {
   "codemirror_mode": {
    "name": "ipython",
    "version": 3
   },
   "file_extension": ".py",
   "mimetype": "text/x-python",
   "name": "python",
   "nbconvert_exporter": "python",
   "pygments_lexer": "ipython3",
   "version": "3.11.9"
  }
 },
 "nbformat": 4,
 "nbformat_minor": 5
}
